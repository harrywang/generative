{
 "cells": [
  {
   "cell_type": "code",
   "execution_count": 35,
   "source": [
    "import numpy as np\n",
    "from scipy.spatial import Voronoi\n",
    "\n",
    "import matplotlib.pyplot as plt\n",
    "from matplotlib.collections import LineCollection\n",
    "\n",
    "from ipywidgets import interactive"
   ],
   "outputs": [],
   "metadata": {}
  },
  {
   "cell_type": "code",
   "execution_count": 36,
   "source": [
    "x_bounds = np.array([0, 10])\n",
    "y_bounds = np.array([0, 10])\n",
    "\n",
    "x_buffer, y_buffer = 1, 1\n",
    "\n",
    "x_plot = x_bounds + np.array([x_buffer, -x_buffer])\n",
    "y_plot = y_bounds + np.array([y_buffer, -y_buffer])"
   ],
   "outputs": [],
   "metadata": {}
  },
  {
   "cell_type": "code",
   "execution_count": 37,
   "source": [
    "def make_some_art(num_points=200, percent_to_fill = 0.5, n_fill_lines=5, min_scalar = 0.1,  debug=False, toggle_for_new=False):\n",
    "    \n",
    "    x = np.random.uniform(*x_bounds, size=num_points).reshape((num_points, 1))\n",
    "    y = np.random.uniform(*y_bounds, size=num_points).reshape((num_points, 1))\n",
    "    pts = np.hstack([x, y])\n",
    "    \n",
    "    vor = Voronoi(pts)\n",
    "    verts = vor.vertices\n",
    "    shapes_ind = vor.regions\n",
    "    \n",
    "    shapes_ind = [s+s[0:1] for s in shapes_ind if len(s)>0 and -1 not in s]\n",
    "    shapes = [verts[s] for s in shapes_ind]\n",
    "    \n",
    "    n_shapes_to_fill = int(percent_to_fill*len(shapes))\n",
    "    shapes_to_fill = np.random.choice(shapes, size=n_shapes_to_fill, replace=False)\n",
    "    \n",
    "    fill = []\n",
    "    \n",
    "    for s in shapes_to_fill:\n",
    "        center = np.mean(s, axis=0)\n",
    "        for scaler in np.linspace(min_scalar, 1, num=n_fill_lines, endpoint=False):\n",
    "            scaled = scaler*(s - center) + center\n",
    "            fill.append(scaled)\n",
    "\n",
    "    \n",
    "    fig, ax = plt.subplots(figsize=(10,10))\n",
    "    ax.set_aspect('equal')\n",
    "    \n",
    "    if not debug:\n",
    "        plt.grid(False)\n",
    "        plt.axis('off')\n",
    "\n",
    "    \n",
    "    ax.set_xlim(*x_plot)\n",
    "    ax.set_ylim(*y_plot)\n",
    "    lc = LineCollection(shapes+fill)\n",
    "    ax.add_collection(lc)\n",
    "    \n",
    "    plt.show()\n",
    "    \n",
    "    return fig, ax"
   ],
   "outputs": [],
   "metadata": {}
  },
  {
   "cell_type": "code",
   "execution_count": 38,
   "source": [
    "w = interactive(make_some_art,\n",
    "                num_points=(10,1000,25),\n",
    "                percent_to_fill=(0., 1., 0.05),\n",
    "                n_fill_lines=(1, 20, 1),\n",
    "                min_scalar=(0,1,0.01))\n",
    "\n",
    "display(w)"
   ],
   "outputs": [
    {
     "output_type": "display_data",
     "data": {
      "text/plain": [
       "interactive(children=(IntSlider(value=200, description='num_points', max=1000, min=10, step=25), FloatSlider(v…"
      ],
      "application/vnd.jupyter.widget-view+json": {
       "version_major": 2,
       "version_minor": 0,
       "model_id": "cdfa34a6cdea4f30af846dae7df9bfe5"
      }
     },
     "metadata": {}
    }
   ],
   "metadata": {}
  },
  {
   "cell_type": "code",
   "execution_count": 40,
   "source": [
    "fig, ax = w.result\n",
    "fig.savefig('art.svg', bbox_inches = 'tight', pad_inches = 0)"
   ],
   "outputs": [],
   "metadata": {}
  },
  {
   "cell_type": "markdown",
   "source": [
    "Use the following command to rescale the SVG for Letter size\n",
    "\n",
    "See https://vpype.readthedocs.io/en/stable/cookbook.html#laying-out-a-svg-for-plotting\n",
    "```\n",
    "vpype read art.svg scaleto 3in 3in layout letter write art-scaled.svg\n",
    "```"
   ],
   "metadata": {}
  },
  {
   "cell_type": "markdown",
   "source": [],
   "metadata": {}
  }
 ],
 "metadata": {
  "kernelspec": {
   "name": "python3",
   "display_name": "Python 3.8.1 64-bit ('venv': venv)"
  },
  "language_info": {
   "codemirror_mode": {
    "name": "ipython",
    "version": 3
   },
   "file_extension": ".py",
   "mimetype": "text/x-python",
   "name": "python",
   "nbconvert_exporter": "python",
   "pygments_lexer": "ipython3",
   "version": "3.8.1"
  },
  "interpreter": {
   "hash": "851e3d875956fdfd1ffdba0c3f39f564cd2fb13b9c74538efa53f4fd4eefd5d3"
  }
 },
 "nbformat": 4,
 "nbformat_minor": 4
}