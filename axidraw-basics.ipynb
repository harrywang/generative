{
 "cells": [
  {
   "cell_type": "code",
   "execution_count": 1,
   "source": [
    "import numpy as np\n",
    "import random\n",
    "\n",
    "import matplotlib.pyplot as plt\n",
    "import matplotlib.patches as mpatches\n",
    "from matplotlib.collections import PatchCollection\n",
    "\n",
    "from ipywidgets import interactive"
   ],
   "outputs": [],
   "metadata": {}
  },
  {
   "cell_type": "code",
   "execution_count": 2,
   "source": [
    "# random generate circles with different radius\n",
    "def plot_circles(num_circles=3, max_radius=5):\n",
    "    \n",
    "    # bounds for the center of the circles\n",
    "    x_bounds = [0, 10]\n",
    "    y_bounds = [0, 10]\n",
    "    \n",
    "    # x, y limits for the plot\n",
    "    # we make sure the circles won't go outside of the plot\n",
    "    x_lim = [0-max_radius, 10+max_radius]\n",
    "    y_lim = [0-max_radius, 10+max_radius]\n",
    "    \n",
    "    circles = []  # initialize the circle list\n",
    "        \n",
    "    for i in range(0, num_circles):\n",
    "        r = random.randint(1, max_radius)  # random radius\n",
    "        x, y = np.random.uniform(*x_bounds), np.random.uniform(*y_bounds)  # random circle center\n",
    "        c = np.array([x, y])  # circle center coordinates\n",
    "        circles.append((c, r))  # add to circle list\n",
    "    \n",
    "    # create matplotlib patches for each circle\n",
    "    circle_patches = []\n",
    "    for c, r in circles:\n",
    "        circle_patches.append(mpatches.Circle(c, r, fill=None, edgecolor='blue'))\n",
    "\n",
    "    # plot the circles    \n",
    "    fig, ax = plt.subplots(figsize=(10, 10))\n",
    "    plt.grid(False)  # no grid\n",
    "    plt.axis('off')  # no axis\n",
    "\n",
    "    # set x y limits\n",
    "    ax.set_xlim(x_lim)\n",
    "    ax.set_ylim(y_lim)\n",
    "\n",
    "    # match_original=True use the colors and linewidths of the original patches.\n",
    "    collection = PatchCollection(circle_patches, match_original=True)\n",
    "    ax.add_collection(collection)\n",
    "\n",
    "    plt.show()\n",
    "    return fig, ax"
   ],
   "outputs": [],
   "metadata": {}
  },
  {
   "cell_type": "code",
   "execution_count": 3,
   "source": [
    "circles = interactive(\n",
    "    plot_circles,\n",
    "    num_circles=(1, 10, 1),\n",
    "    max_radius=(1, 10, 1),\n",
    ")\n",
    "\n",
    "display(circles)"
   ],
   "outputs": [
    {
     "output_type": "display_data",
     "data": {
      "text/plain": [
       "interactive(children=(IntSlider(value=3, description='num_circles', max=10, min=1), IntSlider(value=5, descrip…"
      ],
      "application/vnd.jupyter.widget-view+json": {
       "version_major": 2,
       "version_minor": 0,
       "model_id": "c44c40de241f4966b818f3e17b0f2749"
      }
     },
     "metadata": {}
    }
   ],
   "metadata": {}
  },
  {
   "cell_type": "code",
   "execution_count": 4,
   "source": [
    "# save the plot as a SVG\n",
    "fig, ax = circles.result\n",
    "fig.savefig('circles.svg', bbox_inches = 'tight', pad_inches = 0)"
   ],
   "outputs": [],
   "metadata": {}
  },
  {
   "cell_type": "code",
   "execution_count": 13,
   "source": [
    "# See https://vpype.readthedocs.io/en/stable/cookbook.html#laying-out-a-svg-for-plotting\n",
    "# Use vpype to rescale the SVG to 3x3 (inch) for letter size page plotting in landscape\n",
    "\n",
    "!vpype read circles.svg scaleto 3in 3in layout --landscape letter write circles-scaled.svg"
   ],
   "outputs": [],
   "metadata": {}
  },
  {
   "cell_type": "code",
   "execution_count": 11,
   "source": [
    "# control Axidraw plotter via Python API\n",
    "from pyaxidraw import axidraw\n",
    "ad = axidraw.AxiDraw()"
   ],
   "outputs": [],
   "metadata": {}
  },
  {
   "cell_type": "code",
   "execution_count": 7,
   "source": [
    "# setup axidraw\n",
    "# # move to the home corner manually\n",
    "ad.interactive()\n",
    "ad.connect()"
   ],
   "outputs": [
    {
     "output_type": "execute_result",
     "data": {
      "text/plain": [
       "True"
      ]
     },
     "metadata": {},
     "execution_count": 7
    }
   ],
   "metadata": {}
  },
  {
   "cell_type": "code",
   "execution_count": 8,
   "source": [
    " # pen up and then insert the pen\n",
    " # gap between pen tip and paper should be 1/8-1/4 inch or 3mm-6mm\n",
    " # the left corner of the paper should be directly underneath the pen tip\n",
    "ad.penup()\n"
   ],
   "outputs": [],
   "metadata": {}
  },
  {
   "cell_type": "code",
   "execution_count": 14,
   "source": [
    "# start plotting \n",
    "ad.plot_setup(\"circles-scaled.svg\")\n",
    "ad.plot_run()"
   ],
   "outputs": [],
   "metadata": {}
  },
  {
   "cell_type": "code",
   "execution_count": 12,
   "source": [
    "# close the session\n",
    "ad.disconnect()"
   ],
   "outputs": [],
   "metadata": {}
  }
 ],
 "metadata": {
  "kernelspec": {
   "name": "python3",
   "display_name": "Python 3.8.1 64-bit ('venv': venv)"
  },
  "language_info": {
   "codemirror_mode": {
    "name": "ipython",
    "version": 3
   },
   "file_extension": ".py",
   "mimetype": "text/x-python",
   "name": "python",
   "nbconvert_exporter": "python",
   "pygments_lexer": "ipython3",
   "version": "3.8.1"
  },
  "interpreter": {
   "hash": "851e3d875956fdfd1ffdba0c3f39f564cd2fb13b9c74538efa53f4fd4eefd5d3"
  }
 },
 "nbformat": 4,
 "nbformat_minor": 4
}